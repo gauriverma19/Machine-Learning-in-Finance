{
 "cells": [
  {
   "cell_type": "markdown",
   "metadata": {},
   "source": [
    "# Linear Regression to Predict Stock Prices for BMY Stocks"
   ]
  },
  {
   "cell_type": "code",
   "execution_count": 4,
   "metadata": {},
   "outputs": [],
   "source": [
    "#!pip install pandas_datareader"
   ]
  },
  {
   "cell_type": "code",
   "execution_count": 6,
   "metadata": {},
   "outputs": [],
   "source": [
    "#import neccessary libraries\n",
    "import pandas as pd\n",
    "import datetime as datetime\n",
    "import pandas_datareader.data as web\n",
    "from pandas import Series, DataFrame\n",
    " \n",
    "%matplotlib inline\n",
    " \n",
    "from __future__ import print_function\n",
    "import numpy as np\n",
    "from scipy import stats\n",
    "import pandas as pd\n",
    "import matplotlib.pyplot as plt\n",
    "#from arch import arch_model\n",
    "import statsmodels.api as sm\n",
    "from statsmodels.graphics.tsaplots import plot_acf, plot_pacf"
   ]
  },
  {
   "cell_type": "code",
   "execution_count": 5,
   "metadata": {},
   "outputs": [
    {
     "data": {
      "text/html": [
       "<div>\n",
       "<style scoped>\n",
       "    .dataframe tbody tr th:only-of-type {\n",
       "        vertical-align: middle;\n",
       "    }\n",
       "\n",
       "    .dataframe tbody tr th {\n",
       "        vertical-align: top;\n",
       "    }\n",
       "\n",
       "    .dataframe thead th {\n",
       "        text-align: right;\n",
       "    }\n",
       "</style>\n",
       "<table border=\"1\" class=\"dataframe\">\n",
       "  <thead>\n",
       "    <tr style=\"text-align: right;\">\n",
       "      <th></th>\n",
       "      <th>High</th>\n",
       "      <th>Low</th>\n",
       "      <th>Open</th>\n",
       "      <th>Close</th>\n",
       "      <th>Volume</th>\n",
       "      <th>Adj Close</th>\n",
       "    </tr>\n",
       "    <tr>\n",
       "      <th>Date</th>\n",
       "      <th></th>\n",
       "      <th></th>\n",
       "      <th></th>\n",
       "      <th></th>\n",
       "      <th></th>\n",
       "      <th></th>\n",
       "    </tr>\n",
       "  </thead>\n",
       "  <tbody>\n",
       "    <tr>\n",
       "      <th>2016-01-05</th>\n",
       "      <td>68.900002</td>\n",
       "      <td>67.419998</td>\n",
       "      <td>67.500000</td>\n",
       "      <td>68.349998</td>\n",
       "      <td>7836700.0</td>\n",
       "      <td>58.317284</td>\n",
       "    </tr>\n",
       "    <tr>\n",
       "      <th>2016-01-06</th>\n",
       "      <td>68.269997</td>\n",
       "      <td>66.849998</td>\n",
       "      <td>67.470001</td>\n",
       "      <td>67.150002</td>\n",
       "      <td>6691400.0</td>\n",
       "      <td>57.293411</td>\n",
       "    </tr>\n",
       "    <tr>\n",
       "      <th>2016-01-07</th>\n",
       "      <td>66.690002</td>\n",
       "      <td>64.949997</td>\n",
       "      <td>65.849998</td>\n",
       "      <td>65.290001</td>\n",
       "      <td>8436600.0</td>\n",
       "      <td>55.706432</td>\n",
       "    </tr>\n",
       "    <tr>\n",
       "      <th>2016-01-08</th>\n",
       "      <td>65.790001</td>\n",
       "      <td>63.500000</td>\n",
       "      <td>65.599998</td>\n",
       "      <td>63.630001</td>\n",
       "      <td>9076400.0</td>\n",
       "      <td>54.290100</td>\n",
       "    </tr>\n",
       "    <tr>\n",
       "      <th>2016-01-11</th>\n",
       "      <td>63.990002</td>\n",
       "      <td>61.980000</td>\n",
       "      <td>63.709999</td>\n",
       "      <td>62.980000</td>\n",
       "      <td>10337800.0</td>\n",
       "      <td>53.735508</td>\n",
       "    </tr>\n",
       "  </tbody>\n",
       "</table>\n",
       "</div>"
      ],
      "text/plain": [
       "                 High        Low       Open      Close      Volume  Adj Close\n",
       "Date                                                                         \n",
       "2016-01-05  68.900002  67.419998  67.500000  68.349998   7836700.0  58.317284\n",
       "2016-01-06  68.269997  66.849998  67.470001  67.150002   6691400.0  57.293411\n",
       "2016-01-07  66.690002  64.949997  65.849998  65.290001   8436600.0  55.706432\n",
       "2016-01-08  65.790001  63.500000  65.599998  63.630001   9076400.0  54.290100\n",
       "2016-01-11  63.990002  61.980000  63.709999  62.980000  10337800.0  53.735508"
      ]
     },
     "execution_count": 5,
     "metadata": {},
     "output_type": "execute_result"
    }
   ],
   "source": [
    "start = datetime.datetime(2015, 1, 1)\n",
    "end = datetime.datetime(2016, 1, 11)\n",
    "from datetime import datetime, timedelta\n",
    "df = web.DataReader(\"BMY\", 'yahoo', start, end)\n",
    "df.tail()"
   ]
  },
  {
   "cell_type": "markdown",
   "metadata": {},
   "source": [
    "# **Moving Average**\n",
    "\n",
    "A moving average (aka. rolling average or running average) is a calculation to analyze data points by creating series of averages of different subsets of the full data set\n",
    "\n",
    "\n",
    "In layman’s terms, moving averages “smooth” your data to make trend spotting more obvious.\n",
    "\n",
    "A simple moving average is, simply, the arithmetic mean of your subset. Period."
   ]
  },
  {
   "cell_type": "code",
   "execution_count": 7,
   "metadata": {},
   "outputs": [],
   "source": [
    "bmy_close = pd.DataFrame(df.Close)"
   ]
  },
  {
   "cell_type": "code",
   "execution_count": 8,
   "metadata": {},
   "outputs": [],
   "source": [
    "bmy_close = bmy_close.reset_index()"
   ]
  },
  {
   "cell_type": "code",
   "execution_count": 9,
   "metadata": {},
   "outputs": [
    {
     "data": {
      "text/plain": [
       "0     2015-01-02\n",
       "1     2015-01-05\n",
       "2     2015-01-06\n",
       "3     2015-01-07\n",
       "4     2015-01-08\n",
       "         ...    \n",
       "253   2016-01-05\n",
       "254   2016-01-06\n",
       "255   2016-01-07\n",
       "256   2016-01-08\n",
       "257   2016-01-11\n",
       "Name: Date, Length: 258, dtype: datetime64[ns]"
      ]
     },
     "execution_count": 9,
     "metadata": {},
     "output_type": "execute_result"
    }
   ],
   "source": [
    "bmy_close['Date']"
   ]
  },
  {
   "cell_type": "code",
   "execution_count": null,
   "metadata": {},
   "outputs": [],
   "source": []
  }
 ],
 "metadata": {
  "kernelspec": {
   "display_name": "Python 3",
   "language": "python",
   "name": "python3"
  },
  "language_info": {
   "codemirror_mode": {
    "name": "ipython",
    "version": 3
   },
   "file_extension": ".py",
   "mimetype": "text/x-python",
   "name": "python",
   "nbconvert_exporter": "python",
   "pygments_lexer": "ipython3",
   "version": "3.8.5"
  }
 },
 "nbformat": 4,
 "nbformat_minor": 4
}
