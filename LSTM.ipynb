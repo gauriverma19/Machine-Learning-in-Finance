{
  "nbformat": 4,
  "nbformat_minor": 0,
  "metadata": {
    "colab": {
      "name": "LSTM.ipynb",
      "provenance": [],
      "authorship_tag": "ABX9TyN6fNvTBUDYuJVGNGzQasA+",
      "include_colab_link": true
    },
    "kernelspec": {
      "name": "python3",
      "display_name": "Python 3"
    }
  },
  "cells": [
    {
      "cell_type": "markdown",
      "metadata": {
        "id": "view-in-github",
        "colab_type": "text"
      },
      "source": [
        "<a href=\"https://colab.research.google.com/github/gauriverma19/Machine-Learning-in-Finance/blob/main/LSTM.ipynb\" target=\"_parent\"><img src=\"https://colab.research.google.com/assets/colab-badge.svg\" alt=\"Open In Colab\"/></a>"
      ]
    },
    {
      "cell_type": "markdown",
      "metadata": {
        "id": "ACkX-0erihJa"
      },
      "source": [
        "# **LSTM FOR BMY STOCK PREDICTION**\n",
        "\n",
        "We will train a Recurrent Neural Network (LSTM). We will use one of the deep learning libraries, Keras, to build the neural network."
      ]
    },
    {
      "cell_type": "markdown",
      "metadata": {
        "id": "J48WASXwPenY"
      },
      "source": [
        "Long Short Term Memory networks – usually just called “LSTMs” – are a special kind of RNN, capable of learning long-term dependencies. They were introduced by Hochreiter & Schmidhuber (1997), and were refined and popularized by many people in following work.1 They work tremendously well on a large variety of problems, and are now widely used.\n",
        "\n",
        "LSTMs are explicitly designed to avoid the long-term dependency problem. Remembering information for long periods of time is practically their default behavior, not something they struggle to learn!\n",
        "\n",
        "All recurrent neural networks have the form of a chain of repeating modules of neural network. In standard RNNs, this repeating module will have a very simple structure, such as a single tanh layer.\n",
        "\n"
      ]
    },
    {
      "cell_type": "code",
      "metadata": {
        "id": "heK-Mku1aynw",
        "colab": {
          "base_uri": "https://localhost:8080/",
          "height": 233
        },
        "outputId": "d02d752d-0447-419d-927d-4bcb90cc38b5"
      },
      "source": [
        "#importing necessary libraries\n",
        "\n",
        "import pandas as pd\n",
        "import datetime\n",
        "import pandas_datareader.data as web\n",
        "from pandas import Series, DataFrame\n",
        "\n",
        "%matplotlib inline\n",
        "\n",
        "from __future__ import print_function\n",
        "import numpy as np\n",
        "from scipy import stats\n",
        "import pandas as pd\n",
        "import matplotlib.pyplot as plt\n",
        "\n",
        "import statsmodels.api as sm\n",
        "\n",
        "#reading web data\n",
        "start = datetime.datetime(2016, 1, 1)\n",
        "end = datetime.datetime(2020, 7, 31)\n",
        "\n",
        "df = web.DataReader(\"BMY\", 'yahoo', start, end)\n",
        "df.tail()"
      ],
      "execution_count": null,
      "outputs": [
        {
          "output_type": "execute_result",
          "data": {
            "text/html": [
              "<div>\n",
              "<style scoped>\n",
              "    .dataframe tbody tr th:only-of-type {\n",
              "        vertical-align: middle;\n",
              "    }\n",
              "\n",
              "    .dataframe tbody tr th {\n",
              "        vertical-align: top;\n",
              "    }\n",
              "\n",
              "    .dataframe thead th {\n",
              "        text-align: right;\n",
              "    }\n",
              "</style>\n",
              "<table border=\"1\" class=\"dataframe\">\n",
              "  <thead>\n",
              "    <tr style=\"text-align: right;\">\n",
              "      <th></th>\n",
              "      <th>High</th>\n",
              "      <th>Low</th>\n",
              "      <th>Open</th>\n",
              "      <th>Close</th>\n",
              "      <th>Volume</th>\n",
              "      <th>Adj Close</th>\n",
              "    </tr>\n",
              "    <tr>\n",
              "      <th>Date</th>\n",
              "      <th></th>\n",
              "      <th></th>\n",
              "      <th></th>\n",
              "      <th></th>\n",
              "      <th></th>\n",
              "      <th></th>\n",
              "    </tr>\n",
              "  </thead>\n",
              "  <tbody>\n",
              "    <tr>\n",
              "      <th>2020-07-27</th>\n",
              "      <td>58.619999</td>\n",
              "      <td>57.349998</td>\n",
              "      <td>57.549999</td>\n",
              "      <td>58.049999</td>\n",
              "      <td>12372000.0</td>\n",
              "      <td>57.616718</td>\n",
              "    </tr>\n",
              "    <tr>\n",
              "      <th>2020-07-28</th>\n",
              "      <td>59.820000</td>\n",
              "      <td>58.240002</td>\n",
              "      <td>58.549999</td>\n",
              "      <td>59.430000</td>\n",
              "      <td>9816300.0</td>\n",
              "      <td>58.986420</td>\n",
              "    </tr>\n",
              "    <tr>\n",
              "      <th>2020-07-29</th>\n",
              "      <td>59.400002</td>\n",
              "      <td>58.590000</td>\n",
              "      <td>59.160000</td>\n",
              "      <td>59.150002</td>\n",
              "      <td>7357900.0</td>\n",
              "      <td>58.708511</td>\n",
              "    </tr>\n",
              "    <tr>\n",
              "      <th>2020-07-30</th>\n",
              "      <td>59.150002</td>\n",
              "      <td>58.340000</td>\n",
              "      <td>58.799999</td>\n",
              "      <td>58.869999</td>\n",
              "      <td>7175200.0</td>\n",
              "      <td>58.430595</td>\n",
              "    </tr>\n",
              "    <tr>\n",
              "      <th>2020-07-31</th>\n",
              "      <td>59.090000</td>\n",
              "      <td>57.770000</td>\n",
              "      <td>58.880001</td>\n",
              "      <td>58.660000</td>\n",
              "      <td>10443000.0</td>\n",
              "      <td>58.222164</td>\n",
              "    </tr>\n",
              "  </tbody>\n",
              "</table>\n",
              "</div>"
            ],
            "text/plain": [
              "                 High        Low       Open      Close      Volume  Adj Close\n",
              "Date                                                                         \n",
              "2020-07-27  58.619999  57.349998  57.549999  58.049999  12372000.0  57.616718\n",
              "2020-07-28  59.820000  58.240002  58.549999  59.430000   9816300.0  58.986420\n",
              "2020-07-29  59.400002  58.590000  59.160000  59.150002   7357900.0  58.708511\n",
              "2020-07-30  59.150002  58.340000  58.799999  58.869999   7175200.0  58.430595\n",
              "2020-07-31  59.090000  57.770000  58.880001  58.660000  10443000.0  58.222164"
            ]
          },
          "metadata": {
            "tags": []
          },
          "execution_count": 4
        }
      ]
    },
    {
      "cell_type": "code",
      "metadata": {
        "id": "Ci54d3y3a9Aq",
        "colab": {
          "base_uri": "https://localhost:8080/"
        },
        "outputId": "3ebd6e6e-b43a-47a4-aff5-5ff72c9b07dd"
      },
      "source": [
        "#training the data\n",
        "training_set = df.iloc[:,1:2].values\n",
        "\n",
        "print(training_set)\n",
        "print(\"********************\")\n",
        "print(df.shape)"
      ],
      "execution_count": null,
      "outputs": [
        {
          "output_type": "stream",
          "text": [
            "[[66.37999725]\n",
            " [67.41999817]\n",
            " [66.84999847]\n",
            " ...\n",
            " [58.59000015]\n",
            " [58.34000015]\n",
            " [57.77000046]]\n",
            "********************\n",
            "(1153, 6)\n"
          ],
          "name": "stdout"
        }
      ]
    },
    {
      "cell_type": "markdown",
      "metadata": {
        "id": "ytzGmOYQi_hZ"
      },
      "source": [
        "# Feature scaling\n",
        "The performance of the neural network will be better if the entire training input is in the same range. As we can see from above the stock prices are not in the same range. So, we need to scale the training data such that they are in the same range. This process is called Feature Scaling. The two popular methods for feature scaling are:\n",
        "\n",
        "Standardization\n",
        "$ x' = \\frac{x - \\bar{x}}{\\sigma} $\n",
        "\n",
        "where $ x $ is the original feature vector, $ \\bar{x} $ is the mean of that feature vector, and $ \\sigma $ is its standard deviation.\n",
        "\n",
        "Normalization (Min-Max normalization)\n",
        "$ x' = \\frac{x - \\text{min}(x)}{\\text{max}(x)-\\text{min}(x)} $\n",
        "\n",
        "where $ x $ is an original value, $ x' $ is the normalized value.\n",
        "\n",
        "It is recommended to use Normalization in the case of RNN networks. Therefore we use Min-Max normalization here. You may also experiment with different feature scaling methods."
      ]
    },
    {
      "cell_type": "code",
      "metadata": {
        "id": "oxbgTVSabcqD",
        "colab": {
          "base_uri": "https://localhost:8080/"
        },
        "outputId": "821e879c-79ee-4691-ec7a-7dbff6788253"
      },
      "source": [
        "#implementing feature scaling\n",
        "\n",
        "from sklearn.preprocessing import MinMaxScaler\n",
        "\n",
        "scaler = MinMaxScaler(feature_range = (0,1)) \n",
        "scaled_training_set = scaler.fit_transform(training_set)\n",
        "\n",
        "scaled_training_set"
      ],
      "execution_count": null,
      "outputs": [
        {
          "output_type": "execute_result",
          "data": {
            "text/plain": [
              "array([[0.70689136],\n",
              "       [0.73765151],\n",
              "       [0.7207926 ],\n",
              "       ...,\n",
              "       [0.47648625],\n",
              "       [0.46909198],\n",
              "       [0.45223308]])"
            ]
          },
          "metadata": {
            "tags": []
          },
          "execution_count": 6
        }
      ]
    },
    {
      "cell_type": "code",
      "metadata": {
        "id": "Jxt29uNobf_S"
      },
      "source": [
        "#scaled training sets\n",
        "\n",
        "X_train = []\n",
        "y_train = []\n",
        "for i in range(60,1153):#1258\n",
        "    X_train.append(scaled_training_set[i-60:i, 0])\n",
        "    y_train.append(scaled_training_set[i, 0])\n",
        "X_train = np.array(X_train)\n",
        "y_train = np.array(y_train)"
      ],
      "execution_count": null,
      "outputs": []
    },
    {
      "cell_type": "code",
      "metadata": {
        "id": "UvPy0vqzbyZa",
        "colab": {
          "base_uri": "https://localhost:8080/"
        },
        "outputId": "1eacf1e1-f67e-4e39-dc7c-845b0eb6c804"
      },
      "source": [
        "#shape of training data\n",
        "print(X_train.shape)\n",
        "print(y_train.shape)"
      ],
      "execution_count": null,
      "outputs": [
        {
          "output_type": "stream",
          "text": [
            "(1093, 60)\n",
            "(1093,)\n"
          ],
          "name": "stdout"
        }
      ]
    },
    {
      "cell_type": "markdown",
      "metadata": {
        "id": "7JG9dFJajGzL"
      },
      "source": [
        "# Reshaping:\n",
        "\n",
        "The input shape of the LSTM is 3D tensor with shape (batch_size, timesteps, input_dim). Batch_size represents the number of iterations required to traverse through the entire training data. Timesteps represent the number of inputs required for each prediction. In our scenario it is 60."
      ]
    },
    {
      "cell_type": "code",
      "metadata": {
        "id": "UUianZucb13n",
        "colab": {
          "base_uri": "https://localhost:8080/"
        },
        "outputId": "89f8a94f-9abe-40fa-d610-813199e4e701"
      },
      "source": [
        "#reshaping the training data\n",
        "\n",
        "X_train = np.reshape(X_train,(X_train.shape[0], X_train.shape[1], 1))\n",
        "\n",
        "X_train.shape"
      ],
      "execution_count": null,
      "outputs": [
        {
          "output_type": "execute_result",
          "data": {
            "text/plain": [
              "(1093, 60, 1)"
            ]
          },
          "metadata": {
            "tags": []
          },
          "execution_count": 11
        }
      ]
    },
    {
      "cell_type": "markdown",
      "metadata": {
        "id": "U101DmsjjQIg"
      },
      "source": [
        "# **Building the Neural Network**"
      ]
    },
    {
      "cell_type": "code",
      "metadata": {
        "id": "Ajie3XaUb5ea"
      },
      "source": [
        "#importing libraries for building the neural netowkr using Keras sequential layers\n",
        "from keras.models import Sequential\n",
        "from keras.layers import LSTM\n",
        "from keras.layers import Dense\n",
        "from keras.layers import Dropout"
      ],
      "execution_count": null,
      "outputs": []
    },
    {
      "cell_type": "code",
      "metadata": {
        "id": "OzFPoGlMb8HO"
      },
      "source": [
        "#--------------------------------------------#\n",
        "#  Initialization and Adding layers to RNN   #\n",
        "#--------------------------------------------#\n",
        "regressor = Sequential()\n",
        "\n",
        "regressor.add(LSTM(units = 50, return_sequences= True, input_shape = (X_train.shape[1], 1)))   # the first LSTM layer\n",
        "regressor.add(Dropout(0.2))                     \n",
        "\n",
        "regressor.add(LSTM(units = 50, return_sequences= True))  # the second LSTM layer\n",
        "regressor.add(Dropout(0.2))\n",
        "\n",
        "regressor.add(LSTM(units = 50, return_sequences= True))  # the third LSTM layer\n",
        "regressor.add(Dropout(0.2))\n",
        "\n",
        "regressor.add(LSTM(units = 50))  # the fourth LSTM layer\n",
        "regressor.add(Dropout(0.2))\n",
        "\n",
        "regressor.add(Dense(units=1))   # the dense layer"
      ],
      "execution_count": null,
      "outputs": []
    },
    {
      "cell_type": "code",
      "metadata": {
        "id": "3KNyuW4lb-ZQ",
        "colab": {
          "base_uri": "https://localhost:8080/"
        },
        "outputId": "27821de9-0b0f-4f59-9b09-f0c3ec754a09"
      },
      "source": [
        "#-----------------------------------------------------#\n",
        "#  Compiling and Fitting the RNN to the Training set  #\n",
        "#-----------------------------------------------------#\n",
        "\n",
        "regressor.compile(optimizer = 'adam', loss = 'mean_squared_error') \n",
        "regressor.fit(X_train, y_train, epochs=100, batch_size=32)\n",
        "\n",
        "# the loss function \"mean_squared_error\"(MSE) is used because it is a Regression problem.\n",
        "# epochs = no of iterations. After every 32 (batch_size) datasets, the MSE will be calculated and \n",
        "# the tweaks will be Back Propagated i.e., the weights will be tweaked for every 32 training datasets."
      ],
      "execution_count": null,
      "outputs": [
        {
          "output_type": "stream",
          "text": [
            "Epoch 1/100\n",
            "35/35 [==============================] - 3s 88ms/step - loss: 0.0417\n",
            "Epoch 2/100\n",
            "35/35 [==============================] - 3s 99ms/step - loss: 0.0133\n",
            "Epoch 3/100\n",
            "35/35 [==============================] - 3s 98ms/step - loss: 0.0116\n",
            "Epoch 4/100\n",
            "35/35 [==============================] - 3s 95ms/step - loss: 0.0102\n",
            "Epoch 5/100\n",
            "35/35 [==============================] - 4s 100ms/step - loss: 0.0090\n",
            "Epoch 6/100\n",
            "35/35 [==============================] - 3s 99ms/step - loss: 0.0091\n",
            "Epoch 7/100\n",
            "35/35 [==============================] - 4s 101ms/step - loss: 0.0087\n",
            "Epoch 8/100\n",
            "35/35 [==============================] - 3s 98ms/step - loss: 0.0073\n",
            "Epoch 9/100\n",
            "35/35 [==============================] - 4s 101ms/step - loss: 0.0065\n",
            "Epoch 10/100\n",
            "35/35 [==============================] - 4s 100ms/step - loss: 0.0077\n",
            "Epoch 11/100\n",
            "35/35 [==============================] - 4s 102ms/step - loss: 0.0064\n",
            "Epoch 12/100\n",
            "35/35 [==============================] - 4s 104ms/step - loss: 0.0058\n",
            "Epoch 13/100\n",
            "35/35 [==============================] - 4s 106ms/step - loss: 0.0059\n",
            "Epoch 14/100\n",
            "35/35 [==============================] - 4s 104ms/step - loss: 0.0056\n",
            "Epoch 15/100\n",
            "35/35 [==============================] - 4s 101ms/step - loss: 0.0053\n",
            "Epoch 16/100\n",
            "35/35 [==============================] - 4s 101ms/step - loss: 0.0055\n",
            "Epoch 17/100\n",
            "35/35 [==============================] - 4s 101ms/step - loss: 0.0049\n",
            "Epoch 18/100\n",
            "35/35 [==============================] - 4s 101ms/step - loss: 0.0051\n",
            "Epoch 19/100\n",
            "35/35 [==============================] - 3s 99ms/step - loss: 0.0048\n",
            "Epoch 20/100\n",
            "35/35 [==============================] - 4s 101ms/step - loss: 0.0046\n",
            "Epoch 21/100\n",
            "35/35 [==============================] - 4s 100ms/step - loss: 0.0047\n",
            "Epoch 22/100\n",
            "35/35 [==============================] - 3s 100ms/step - loss: 0.0045\n",
            "Epoch 23/100\n",
            "35/35 [==============================] - 4s 100ms/step - loss: 0.0048\n",
            "Epoch 24/100\n",
            "35/35 [==============================] - 4s 100ms/step - loss: 0.0050\n",
            "Epoch 25/100\n",
            "35/35 [==============================] - 4s 106ms/step - loss: 0.0041\n",
            "Epoch 26/100\n",
            "35/35 [==============================] - 4s 107ms/step - loss: 0.0047\n",
            "Epoch 27/100\n",
            "35/35 [==============================] - 4s 100ms/step - loss: 0.0038\n",
            "Epoch 28/100\n",
            "35/35 [==============================] - 4s 101ms/step - loss: 0.0038\n",
            "Epoch 29/100\n",
            "35/35 [==============================] - 4s 100ms/step - loss: 0.0035\n",
            "Epoch 30/100\n",
            "35/35 [==============================] - 3s 100ms/step - loss: 0.0039\n",
            "Epoch 31/100\n",
            "35/35 [==============================] - 4s 100ms/step - loss: 0.0037\n",
            "Epoch 32/100\n",
            "35/35 [==============================] - 4s 101ms/step - loss: 0.0034\n",
            "Epoch 33/100\n",
            "35/35 [==============================] - 4s 100ms/step - loss: 0.0033\n",
            "Epoch 34/100\n",
            "35/35 [==============================] - 4s 100ms/step - loss: 0.0034\n",
            "Epoch 35/100\n",
            "35/35 [==============================] - 4s 101ms/step - loss: 0.0035\n",
            "Epoch 36/100\n",
            "35/35 [==============================] - 4s 101ms/step - loss: 0.0033\n",
            "Epoch 37/100\n",
            "35/35 [==============================] - 3s 100ms/step - loss: 0.0032\n",
            "Epoch 38/100\n",
            "35/35 [==============================] - 3s 99ms/step - loss: 0.0031\n",
            "Epoch 39/100\n",
            "35/35 [==============================] - 4s 100ms/step - loss: 0.0029\n",
            "Epoch 40/100\n",
            "35/35 [==============================] - 4s 101ms/step - loss: 0.0033\n",
            "Epoch 41/100\n",
            "35/35 [==============================] - 4s 101ms/step - loss: 0.0028\n",
            "Epoch 42/100\n",
            "35/35 [==============================] - 3s 100ms/step - loss: 0.0031\n",
            "Epoch 43/100\n",
            "35/35 [==============================] - 4s 100ms/step - loss: 0.0030\n",
            "Epoch 44/100\n",
            "35/35 [==============================] - 4s 101ms/step - loss: 0.0031\n",
            "Epoch 45/100\n",
            "35/35 [==============================] - 4s 102ms/step - loss: 0.0027\n",
            "Epoch 46/100\n",
            "35/35 [==============================] - 4s 101ms/step - loss: 0.0026\n",
            "Epoch 47/100\n",
            "35/35 [==============================] - 3s 100ms/step - loss: 0.0029\n",
            "Epoch 48/100\n",
            "35/35 [==============================] - 4s 101ms/step - loss: 0.0030\n",
            "Epoch 49/100\n",
            "35/35 [==============================] - 4s 103ms/step - loss: 0.0026\n",
            "Epoch 50/100\n",
            "35/35 [==============================] - 4s 102ms/step - loss: 0.0032\n",
            "Epoch 51/100\n",
            "35/35 [==============================] - 4s 102ms/step - loss: 0.0029\n",
            "Epoch 52/100\n",
            "35/35 [==============================] - 4s 101ms/step - loss: 0.0026\n",
            "Epoch 53/100\n",
            "35/35 [==============================] - 4s 101ms/step - loss: 0.0026\n",
            "Epoch 54/100\n",
            "35/35 [==============================] - 4s 100ms/step - loss: 0.0023\n",
            "Epoch 55/100\n",
            "35/35 [==============================] - 4s 101ms/step - loss: 0.0027\n",
            "Epoch 56/100\n",
            "35/35 [==============================] - 3s 100ms/step - loss: 0.0024\n",
            "Epoch 57/100\n",
            "35/35 [==============================] - 4s 101ms/step - loss: 0.0026\n",
            "Epoch 58/100\n",
            "35/35 [==============================] - 4s 102ms/step - loss: 0.0024\n",
            "Epoch 59/100\n",
            "35/35 [==============================] - 4s 101ms/step - loss: 0.0033\n",
            "Epoch 60/100\n",
            "35/35 [==============================] - 4s 101ms/step - loss: 0.0023\n",
            "Epoch 61/100\n",
            "35/35 [==============================] - 4s 102ms/step - loss: 0.0024\n",
            "Epoch 62/100\n",
            "35/35 [==============================] - 4s 102ms/step - loss: 0.0027\n",
            "Epoch 63/100\n",
            "35/35 [==============================] - 4s 103ms/step - loss: 0.0022\n",
            "Epoch 64/100\n",
            "35/35 [==============================] - 4s 101ms/step - loss: 0.0024\n",
            "Epoch 65/100\n",
            "35/35 [==============================] - 4s 102ms/step - loss: 0.0024\n",
            "Epoch 66/100\n",
            "35/35 [==============================] - 4s 101ms/step - loss: 0.0020\n",
            "Epoch 67/100\n",
            "35/35 [==============================] - 4s 101ms/step - loss: 0.0020\n",
            "Epoch 68/100\n",
            "35/35 [==============================] - 4s 103ms/step - loss: 0.0021\n",
            "Epoch 69/100\n",
            "35/35 [==============================] - 4s 101ms/step - loss: 0.0022\n",
            "Epoch 70/100\n",
            "35/35 [==============================] - 4s 102ms/step - loss: 0.0022\n",
            "Epoch 71/100\n",
            "35/35 [==============================] - 4s 104ms/step - loss: 0.0020\n",
            "Epoch 72/100\n",
            "35/35 [==============================] - 4s 104ms/step - loss: 0.0019\n",
            "Epoch 73/100\n",
            "35/35 [==============================] - 4s 102ms/step - loss: 0.0020\n",
            "Epoch 74/100\n",
            "35/35 [==============================] - 4s 103ms/step - loss: 0.0034\n",
            "Epoch 75/100\n",
            "35/35 [==============================] - 4s 102ms/step - loss: 0.0019\n",
            "Epoch 76/100\n",
            "35/35 [==============================] - 4s 103ms/step - loss: 0.0021\n",
            "Epoch 77/100\n",
            "35/35 [==============================] - 4s 104ms/step - loss: 0.0018\n",
            "Epoch 78/100\n",
            "35/35 [==============================] - 4s 101ms/step - loss: 0.0020\n",
            "Epoch 79/100\n",
            "35/35 [==============================] - 4s 101ms/step - loss: 0.0020\n",
            "Epoch 80/100\n",
            "35/35 [==============================] - 4s 103ms/step - loss: 0.0022\n",
            "Epoch 81/100\n",
            "35/35 [==============================] - 4s 103ms/step - loss: 0.0020\n",
            "Epoch 82/100\n",
            "35/35 [==============================] - 4s 102ms/step - loss: 0.0017\n",
            "Epoch 83/100\n",
            "35/35 [==============================] - 4s 102ms/step - loss: 0.0020\n",
            "Epoch 84/100\n",
            "35/35 [==============================] - 4s 103ms/step - loss: 0.0018\n",
            "Epoch 85/100\n",
            "35/35 [==============================] - 4s 102ms/step - loss: 0.0020\n",
            "Epoch 86/100\n",
            "35/35 [==============================] - 4s 102ms/step - loss: 0.0021\n",
            "Epoch 87/100\n",
            "35/35 [==============================] - 4s 102ms/step - loss: 0.0017\n",
            "Epoch 88/100\n",
            "35/35 [==============================] - 4s 101ms/step - loss: 0.0017\n",
            "Epoch 89/100\n",
            "35/35 [==============================] - 4s 101ms/step - loss: 0.0019\n",
            "Epoch 90/100\n",
            "35/35 [==============================] - 4s 101ms/step - loss: 0.0018\n",
            "Epoch 91/100\n",
            "35/35 [==============================] - 4s 102ms/step - loss: 0.0022\n",
            "Epoch 92/100\n",
            "35/35 [==============================] - 4s 103ms/step - loss: 0.0017\n",
            "Epoch 93/100\n",
            "35/35 [==============================] - 4s 102ms/step - loss: 0.0017\n",
            "Epoch 94/100\n",
            "35/35 [==============================] - 4s 103ms/step - loss: 0.0021\n",
            "Epoch 95/100\n",
            "35/35 [==============================] - 4s 102ms/step - loss: 0.0019\n",
            "Epoch 96/100\n",
            "35/35 [==============================] - 4s 102ms/step - loss: 0.0018\n",
            "Epoch 97/100\n",
            "35/35 [==============================] - 4s 106ms/step - loss: 0.0018\n",
            "Epoch 98/100\n",
            "35/35 [==============================] - 4s 109ms/step - loss: 0.0017\n",
            "Epoch 99/100\n",
            "35/35 [==============================] - 4s 109ms/step - loss: 0.0020\n",
            "Epoch 100/100\n",
            "35/35 [==============================] - 4s 105ms/step - loss: 0.0018\n"
          ],
          "name": "stdout"
        },
        {
          "output_type": "execute_result",
          "data": {
            "text/plain": [
              "<tensorflow.python.keras.callbacks.History at 0x7ff9e81c2cf8>"
            ]
          },
          "metadata": {
            "tags": []
          },
          "execution_count": 14
        }
      ]
    },
    {
      "cell_type": "markdown",
      "metadata": {
        "id": "NuUDMNDwjhLZ"
      },
      "source": [
        "# **Making Predictions**"
      ]
    },
    {
      "cell_type": "code",
      "metadata": {
        "id": "G6LfajjncCV9"
      },
      "source": [
        "#end = datetime.datetime(2020, 7, 31)\n",
        "\n",
        "start = datetime.datetime(2020, 8, 1)\n",
        "end = datetime.datetime(2020, 9, 1)\n",
        "dataset_test= web.DataReader(\"BMY\", 'yahoo', start, end)\n",
        "\n",
        "actual_stock_price = dataset_test.iloc[:,1:2].values\n",
        "\n",
        "# getting the Predicted Stock Prices of August 2020\n",
        "# Step1 - preparing the input for the model\n",
        "dataset_total = pd.concat((df['Open'], dataset_test['Open']), axis = 0)    # axis 0 = vertical concatination\n",
        "inputs = dataset_total[len(dataset_total)- len(dataset_test)-60:].values   # so that we can get the base index\n",
        "\n",
        "inputs = inputs.reshape(-1,1)     # before Reshaping- (80,) after Reshaping- (80,1)\n",
        "inputs = scaler.transform(inputs) # we don't need to fit because we want to use the previously calculated min & max values.\n",
        "\n",
        "X_test = []\n",
        "for i in range(60,80):\n",
        "    X_test.append(inputs[i-60:i, 0])\n",
        "X_test = np.array(X_test)\n",
        "X_test = np.reshape(X_test,(X_test.shape[0], X_test.shape[1], 1))\n",
        "\n",
        "# Step2 - prediction\n",
        "predicted_stock_price = regressor.predict(X_test)\n",
        "predicted_stock_price = scaler.inverse_transform(predicted_stock_price)"
      ],
      "execution_count": null,
      "outputs": []
    },
    {
      "cell_type": "markdown",
      "metadata": {
        "id": "Rb_j5mz5jm4w"
      },
      "source": [
        "We \"tranform\" the inputs because we want to maintain the consistency w.r.t what we feed to the network. In the end we \"reverse transform\" the data for the convenience of plotting. As you can see in the next section, the actual and predicted stock prices are in the original scale and are not in the transformed state.\n",
        "\n"
      ]
    },
    {
      "cell_type": "code",
      "metadata": {
        "id": "ycO6oM3vdw5G",
        "colab": {
          "base_uri": "https://localhost:8080/",
          "height": 313
        },
        "outputId": "a2fbbf35-141f-4905-b517-9d5070041c42"
      },
      "source": [
        "#comparing predicted prices\n",
        "\n",
        "plt.plot(actual_stock_price, color = 'red', label = 'Actual BMY Stock Price')\n",
        "plt.plot(predicted_stock_price, color = 'blue', label = 'Predicted BMY Stock Price')\n",
        "plt.title('BMY Stock Price Prediction')\n",
        "plt.xlabel('Time')\n",
        "plt.ylabel('BMY Stock Price')\n",
        "plt.legend()"
      ],
      "execution_count": null,
      "outputs": [
        {
          "output_type": "execute_result",
          "data": {
            "text/plain": [
              "<matplotlib.legend.Legend at 0x7ff9e43c8cf8>"
            ]
          },
          "metadata": {
            "tags": []
          },
          "execution_count": 16
        },
        {
          "output_type": "display_data",
          "data": {
            "image/png": "[encoded data removed]",
            "text/plain": [
              "<Figure size 432x288 with 1 Axes>"
            ]
          },
          "metadata": {
            "tags": [],
            "needs_background": "light"
          }
        }
      ]
    },
    {
      "cell_type": "markdown",
      "metadata": {
        "id": "uUA-jbS-VEEa"
      },
      "source": [
        "The model can be further improved and experimented by considering the following (but not limited to):\n",
        "\n",
        "* Training the model with more data. Eg: Here we have used 5 years of stock prices but you can train the model with 10 years of data.\n",
        "* Increasing the number of timesteps.\n",
        "* Adding more LSTM layers.\n",
        "* Increasing the units in the LSTM layer.\n",
        "* Adding some other indicators. Eg: If you have the financial instinct that the stock price of some other companies might be correlated to the one of BMY, you could add this other stock price as a new indicator in the training data."
      ]
    },
    {
      "cell_type": "code",
      "metadata": {
        "id": "jrHuB6s5QRyc"
      },
      "source": [
        ""
      ],
      "execution_count": null,
      "outputs": []
    }
  ]
}